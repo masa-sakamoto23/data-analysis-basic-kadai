{
  "nbformat": 4,
  "nbformat_minor": 0,
  "metadata": {
    "colab": {
      "provenance": []
    },
    "kernelspec": {
      "name": "python3",
      "display_name": "Python 3"
    },
    "language_info": {
      "name": "python"
    }
  },
  "cells": [
    {
      "cell_type": "code",
      "execution_count": 10,
      "metadata": {
        "colab": {
          "base_uri": "https://localhost:8080/"
        },
        "id": "ru9g2v4vy56O",
        "outputId": "6bae1a5d-38e5-4c15-bc19-9baf3d761d51"
      },
      "outputs": [
        {
          "output_type": "stream",
          "name": "stdout",
          "text": [
            "行列の積：[[ 4  5  6  7]\n",
            " [12 17 22 27]\n",
            " [20 29 38 47]]\n",
            "行列の要素の最大値：47\n"
          ]
        }
      ],
      "source": [
        "# numpyの読み込み\n",
        "import numpy as np\n",
        "\n",
        "multi_array_a = np.array([[0, 1], [2, 3], [4, 5]])\n",
        "multi_array_b = np.array([[0, 1, 2, 3], [4, 5, 6, 7]])\n",
        "# multi_array_a\n",
        "# multi_array_b\n",
        "\n",
        "# 行列の積の計算\n",
        "mul = np.dot(multi_array_a, multi_array_b)\n",
        "# mul\n",
        "\n",
        "# 行列の要素の最大値を求める\n",
        "max_val = mul.max()\n",
        "\n",
        "print(f\"行列の積：{mul}\")\n",
        "print(f\"行列の要素の最大値：{max_val}\")"
      ]
    }
  ]
}